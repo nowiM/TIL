{
 "cells": [
  {
   "cell_type": "markdown",
   "id": "7533953b-4970-4b72-a594-d9a7e35df2d2",
   "metadata": {},
   "source": [
    "# 회귀분석"
   ]
  },
  {
   "cell_type": "markdown",
   "id": "536ccb0a-8af6-4ac1-b08d-c206afb79550",
   "metadata": {},
   "source": [
    "## 독립변수가 1개인 선형회귀"
   ]
  },
  {
   "cell_type": "code",
   "execution_count": 15,
   "id": "75e121be-59da-49ee-8b05-b6ca5a786261",
   "metadata": {},
   "outputs": [],
   "source": [
    "import numpy as np\n",
    "\n",
    "x_data = np.array([1, 2, 3, 4, 5]).reshape(5, 1) # 독립변수\n",
    "t_data = np.array([2, 3, 4, 5, 6]).reshape(5, 1) # 종속변수\n",
    "\n",
    "W = np.random.rand(1, 1)\n",
    "b = np.random.rand(1)"
   ]
  },
  {
   "cell_type": "code",
   "execution_count": 16,
   "id": "e1981524-cf4a-4e61-ae8d-7f81061172cd",
   "metadata": {},
   "outputs": [],
   "source": [
    "def loss_func(x, t):\n",
    "    # y : 예측값\n",
    "    y = np.dot(x, W) + b\n",
    "    # t : 정답\n",
    "    return (np.sum((t - y) ** 2)) / (len(x)) # MSE"
   ]
  },
  {
   "cell_type": "code",
   "execution_count": 17,
   "id": "a1b29883-51a8-4c3c-810d-cf3f529ec7c8",
   "metadata": {},
   "outputs": [],
   "source": [
    "def numerical_derivative(f, x):\n",
    "    delta_x = 1e-4\n",
    "    grad = np.zeros_like(x)\n",
    "    it = np.nditer(x, flags = ['multi_index'], op_flags = ['readwrite'])\n",
    "    while not it.finished:\n",
    "        idx = it.multi_index\n",
    "        tmp_val = x[idx]\n",
    "        x[idx] = float(tmp_val) + delta_x\n",
    "        fx1 = f(x) # f(x + delta_x)\n",
    "\n",
    "        x[idx] = float(tmp_val) - delta_x\n",
    "        fx2 = f(x)\n",
    "        grad[idx] = (fx1 - fx2) / (2 * delta_x)\n",
    "        x[idx] = tmp_val\n",
    "        it.iternext()\n",
    "\n",
    "    return grad"
   ]
  },
  {
   "cell_type": "code",
   "execution_count": 18,
   "id": "2edd4fe9-9f18-42f1-8281-1f0f42530486",
   "metadata": {},
   "outputs": [
    {
     "name": "stdout",
     "output_type": "stream",
     "text": [
      "Initial loss value =  1.0168471317572076 Initial W =  [[0.83689448]] \n",
      " , b =  [0.50766472]\n",
      "step =  0 loss value =  0.6114819942128054 W =  [[0.90231781]] b =  [0.52337236]\n",
      "step =  300 loss value =  0.0042685472196382765 W =  [[1.04242646]] b =  [0.84686451]\n",
      "step =  600 loss value =  0.0005419082719424395 W =  [[1.01511679]] b =  [0.94543694]\n",
      "step =  900 loss value =  6.879731208045901e-05 W =  [[1.0053862]] b =  [0.98055887]\n",
      "step =  1200 loss value =  8.73407990716295e-06 W =  [[1.00191913]] b =  [0.99307301]\n",
      "step =  1500 loss value =  1.108824596743887e-06 W =  [[1.0006838]] b =  [0.99753187]\n",
      "step =  1800 loss value =  1.4076949139607273e-07 W =  [[1.00024364]] b =  [0.99912059]\n",
      "step =  2100 loss value =  1.7871221260884625e-08 W =  [[1.00008681]] b =  [0.99968666]\n",
      "step =  2400 loss value =  2.2688193740723693e-09 W =  [[1.00003093]] b =  [0.99988836]\n",
      "step =  2700 loss value =  2.880352314404119e-10 W =  [[1.00001102]] b =  [0.99996022]\n",
      "step =  3000 loss value =  3.656716594906456e-11 W =  [[1.00000393]] b =  [0.99998583]\n",
      "step =  3300 loss value =  4.642340518953994e-12 W =  [[1.0000014]] b =  [0.99999495]\n",
      "step =  3600 loss value =  5.893627506996646e-13 W =  [[1.0000005]] b =  [0.9999982]\n",
      "step =  3900 loss value =  7.482183830389736e-14 W =  [[1.00000018]] b =  [0.99999936]\n",
      "step =  4200 loss value =  9.498916355418933e-15 W =  [[1.00000006]] b =  [0.99999977]\n",
      "step =  4500 loss value =  1.2059234969062483e-15 W =  [[1.00000002]] b =  [0.99999992]\n",
      "step =  4800 loss value =  1.5309656576985332e-16 W =  [[1.00000001]] b =  [0.99999997]\n",
      "step =  5100 loss value =  1.943618895571267e-17 W =  [[1.]] b =  [0.99999999]\n",
      "step =  5400 loss value =  2.4674976696370884e-18 W =  [[1.]] b =  [1.]\n",
      "step =  5700 loss value =  3.1325820158737375e-19 W =  [[1.]] b =  [1.]\n",
      "step =  6000 loss value =  3.9769320535582494e-20 W =  [[1.]] b =  [1.]\n"
     ]
    }
   ],
   "source": [
    "learning_rate = 1e-2\n",
    "f = lambda x : loss_func(x_data, t_data)\n",
    "print('Initial loss value = ', loss_func(x_data, t_data), 'Initial W = ', W, '\\n',\n",
    "      ', b = ', b)\n",
    "for step in range(6001):\n",
    "    W -= learning_rate * numerical_derivative(f, W)\n",
    "    b -= learning_rate * numerical_derivative(f, b)\n",
    "\n",
    "    if (step % 300 == 0):\n",
    "        print('step = ', step, 'loss value = ', loss_func(x_data, t_data), 'W = ', W,\n",
    "              'b = ', b)"
   ]
  },
  {
   "cell_type": "code",
   "execution_count": 28,
   "id": "57f7b9b2-72ef-48cb-a608-2c015dd3ff47",
   "metadata": {},
   "outputs": [],
   "source": [
    "def predict(x):\n",
    "    y = np.dot(x, W) + b\n",
    "    return y"
   ]
  },
  {
   "cell_type": "code",
   "execution_count": 29,
   "id": "69ddc998-e500-43dc-af98-764b7976c6d4",
   "metadata": {},
   "outputs": [
    {
     "ename": "ValueError",
     "evalue": "shapes (1,) and (3,1) not aligned: 1 (dim 0) != 3 (dim 0)",
     "output_type": "error",
     "traceback": [
      "\u001b[31m---------------------------------------------------------------------------\u001b[39m",
      "\u001b[31mValueError\u001b[39m                                Traceback (most recent call last)",
      "\u001b[36mCell\u001b[39m\u001b[36m \u001b[39m\u001b[32mIn[29]\u001b[39m\u001b[32m, line 1\u001b[39m\n\u001b[32m----> \u001b[39m\u001b[32m1\u001b[39m \u001b[43mpredict\u001b[49m\u001b[43m(\u001b[49m\u001b[43mnp\u001b[49m\u001b[43m.\u001b[49m\u001b[43marray\u001b[49m\u001b[43m(\u001b[49m\u001b[43m[\u001b[49m\u001b[32;43m43\u001b[39;49m\u001b[43m]\u001b[49m\u001b[43m)\u001b[49m\u001b[43m)\u001b[49m\n",
      "\u001b[36mCell\u001b[39m\u001b[36m \u001b[39m\u001b[32mIn[28]\u001b[39m\u001b[32m, line 2\u001b[39m, in \u001b[36mpredict\u001b[39m\u001b[34m(x)\u001b[39m\n\u001b[32m      1\u001b[39m \u001b[38;5;28;01mdef\u001b[39;00m\u001b[38;5;250m \u001b[39m\u001b[34mpredict\u001b[39m(x):\n\u001b[32m----> \u001b[39m\u001b[32m2\u001b[39m     y = \u001b[43mnp\u001b[49m\u001b[43m.\u001b[49m\u001b[43mdot\u001b[49m\u001b[43m(\u001b[49m\u001b[43mx\u001b[49m\u001b[43m,\u001b[49m\u001b[43m \u001b[49m\u001b[43mW\u001b[49m\u001b[43m)\u001b[49m + b\n\u001b[32m      3\u001b[39m     \u001b[38;5;28;01mreturn\u001b[39;00m y\n",
      "\u001b[31mValueError\u001b[39m: shapes (1,) and (3,1) not aligned: 1 (dim 0) != 3 (dim 0)"
     ]
    }
   ],
   "source": [
    "predict(np.array([43]))"
   ]
  },
  {
   "cell_type": "markdown",
   "id": "98331d97-5f69-455c-a680-dfafd142f4ac",
   "metadata": {},
   "source": [
    "## 독립변수가 2개 이상 선형회귀"
   ]
  },
  {
   "cell_type": "code",
   "execution_count": 23,
   "id": "3d080a8f-f075-435d-89c0-3ae2b1e90e27",
   "metadata": {},
   "outputs": [
    {
     "name": "stdout",
     "output_type": "stream",
     "text": [
      "x_data.ndim =  2 , x_data.shape =  (9, 3)\n",
      "t_data.ndim =  2 , t_data.shape =  (9, 1)\n"
     ]
    }
   ],
   "source": [
    "import numpy as np\n",
    "\n",
    "loaded_data = np.loadtxt('../AI데이터/data_01.csv', delimiter = ',', skiprows = 0, dtype = np.float32)\n",
    "x_data = loaded_data[:, 0:-1]\n",
    "t_data = loaded_data[:, [-1]]\n",
    "\n",
    "print('x_data.ndim = ', x_data.ndim, ', x_data.shape = ', x_data.shape)\n",
    "print('t_data.ndim = ', t_data.ndim, ', t_data.shape = ', t_data.shape)"
   ]
  },
  {
   "cell_type": "code",
   "execution_count": 24,
   "id": "01cfd50c-2cf4-4638-80bc-d9eb28a9b214",
   "metadata": {},
   "outputs": [
    {
     "name": "stdout",
     "output_type": "stream",
     "text": [
      "W =  [[0.37454012]\n",
      " [0.95071431]\n",
      " [0.73199394]] W.shape =  (3, 1) , b =  [0.59865848] b.shape =  (1,)\n"
     ]
    }
   ],
   "source": [
    "np.random.seed(42)\n",
    "W = np.random.rand(3, 1)\n",
    "b = np.random.rand(1)\n",
    "\n",
    "print('W = ', W, 'W.shape = ', W.shape, ', b = ', b, 'b.shape = ', b.shape)"
   ]
  },
  {
   "cell_type": "code",
   "execution_count": 25,
   "id": "646d735b-14fd-42f9-be89-28a02538b265",
   "metadata": {},
   "outputs": [
    {
     "name": "stdout",
     "output_type": "stream",
     "text": [
      "Initial loss value =  18.912018958218844\n",
      "step =  0 loss value =  11.964774630423404 W =  [[0.36933621]\n",
      " [0.94535252]\n",
      " [0.72658915]] b =  [0.59861768]\n",
      "step =  1000 loss value =  5.7262478709054525 W =  [[0.40606364]\n",
      " [0.83350263]\n",
      " [0.77156443]] b =  [0.59992002]\n",
      "step =  2000 loss value =  4.88666185645906 W =  [[0.43237927]\n",
      " [0.75918827]\n",
      " [0.8174874 ]] b =  [0.60100567]\n",
      "step =  3000 loss value =  4.418931926580752 W =  [[0.44618706]\n",
      " [0.70489027]\n",
      " [0.85626088]] b =  [0.60182856]\n",
      "step =  4000 loss value =  4.145376760270418 W =  [[0.45212945]\n",
      " [0.66476697]\n",
      " [0.88901644]] b =  [0.60241728]\n",
      "step =  5000 loss value =  3.977693643264539 W =  [[0.45326082]\n",
      " [0.63476395]\n",
      " [0.91670093]] b =  [0.60279985]\n",
      "step =  6000 loss value =  3.870565094708016 W =  [[0.45157271]\n",
      " [0.61205328]\n",
      " [0.94010838]] b =  [0.60300253]\n",
      "step =  7000 loss value =  3.7997825461522883 W =  [[0.44834804]\n",
      " [0.59465101]\n",
      " [0.95990588]] b =  [0.60304931]\n",
      "step =  8000 loss value =  3.7518023643534186 W =  [[0.44439943]\n",
      " [0.58115577]\n",
      " [0.97665467]] b =  [0.6029617]\n",
      "step =  9000 loss value =  3.7186699627558593 W =  [[0.44022928]\n",
      " [0.57056994]\n",
      " [0.99082755]] b =  [0.60275869]\n",
      "step =  10000 loss value =  3.695490803424659 W =  [[0.43613707]\n",
      " [0.56217699]\n",
      " [1.00282316]] b =  [0.6024569]\n",
      "step =  11000 loss value =  3.6791282382755077 W =  [[0.43229096]\n",
      " [0.5554572 ]\n",
      " [1.01297787]] b =  [0.60207079]\n",
      "step =  12000 loss value =  3.667505157681656 W =  [[0.42877536]\n",
      " [0.55002954]\n",
      " [1.02157574]] b =  [0.60161283]\n",
      "step =  13000 loss value =  3.659211602305965 W =  [[0.42562245]\n",
      " [0.54561139]\n",
      " [1.02885669]] b =  [0.60109375]\n",
      "step =  14000 loss value =  3.6532733045919112 W =  [[0.42283282]\n",
      " [0.54199063]\n",
      " [1.03502354]] b =  [0.60052277]\n",
      "step =  15000 loss value =  3.649008710077704 W =  [[0.42038886]\n",
      " [0.5390061 ]\n",
      " [1.04024772]] b =  [0.59990775]\n",
      "step =  16000 loss value =  3.6459370498532238 W =  [[0.41826341]\n",
      " [0.53653384]\n",
      " [1.04467421]] b =  [0.5992554]\n",
      "step =  17000 loss value =  3.643717311044604 W =  [[0.41642517]\n",
      " [0.53447737]\n",
      " [1.04842565]] b =  [0.59857144]\n",
      "step =  18000 loss value =  3.6421067325303196 W =  [[0.41484196]\n",
      " [0.53276077]\n",
      " [1.05160576]] b =  [0.59786075]\n",
      "step =  19000 loss value =  3.64093208851955 W =  [[0.41348274]\n",
      " [0.53132367]\n",
      " [1.05430232]] b =  [0.59712746]\n",
      "step =  20000 loss value =  3.640069581969767 W =  [[0.41231862]\n",
      " [0.5301176 ]\n",
      " [1.05658961]] b =  [0.59637507]\n",
      "step =  21000 loss value =  3.63943065297963 W =  [[0.41132338]\n",
      " [0.52910333]\n",
      " [1.05853046]] b =  [0.59560658]\n",
      "step =  22000 loss value =  3.638951908645809 W =  [[0.41047363]\n",
      " [0.52824886]\n",
      " [1.06017807]] b =  [0.59482452]\n",
      "step =  23000 loss value =  3.6385879524749276 W =  [[0.40974875]\n",
      " [0.52752792]\n",
      " [1.06157746]] b =  [0.59403102]\n",
      "step =  24000 loss value =  3.6383062668575303 W =  [[0.40913075]\n",
      " [0.52691884]\n",
      " [1.06276673]] b =  [0.5932279]\n",
      "step =  25000 loss value =  3.6380835554010216 W =  [[0.40860401]\n",
      " [0.52640367]\n",
      " [1.06377813]] b =  [0.59241671]\n",
      "step =  26000 loss value =  3.6379031261874255 W =  [[0.40815507]\n",
      " [0.52596744]\n",
      " [1.06463896]] b =  [0.59159875]\n",
      "step =  27000 loss value =  3.637753018575644 W =  [[0.40777235]\n",
      " [0.52559767]\n",
      " [1.06537233]] b =  [0.59077513]\n",
      "step =  28000 loss value =  3.6376246617422705 W =  [[0.40744594]\n",
      " [0.52528391]\n",
      " [1.0659978 ]] b =  [0.58994677]\n",
      "step =  29000 loss value =  3.637511913774634 W =  [[0.40716736]\n",
      " [0.5250174 ]\n",
      " [1.06653193]] b =  [0.58911449]\n",
      "step =  30000 loss value =  3.637410373246286 W =  [[0.40692938]\n",
      " [0.52479078]\n",
      " [1.06698872]] b =  [0.58827894]\n"
     ]
    }
   ],
   "source": [
    "learning_rate = 1e-5\n",
    "f = lambda x : loss_func(x_data, t_data)\n",
    "print('Initial loss value = ', loss_func(x_data, t_data))\n",
    "\n",
    "for step in range(30001):\n",
    "    W -= learning_rate * numerical_derivative(f, W)\n",
    "    b -= learning_rate * numerical_derivative(f, b)\n",
    "\n",
    "    if(step % 1000 == 0):\n",
    "        print('step = ', step, 'loss value = ', loss_func(x_data, t_data),\n",
    "              'W = ', W, 'b = ', b)"
   ]
  },
  {
   "cell_type": "code",
   "execution_count": 30,
   "id": "687bd86c-17a1-4190-8353-f7c69ca99b9b",
   "metadata": {},
   "outputs": [
    {
     "data": {
      "text/plain": [
       "array([179.13680055])"
      ]
     },
     "execution_count": 30,
     "metadata": {},
     "output_type": "execute_result"
    }
   ],
   "source": [
    "test_data = np.array([100, 98, 81])\n",
    "predict(test_data)"
   ]
  },
  {
   "cell_type": "code",
   "execution_count": 31,
   "id": "ba2548c1-4d13-4dfe-8b6d-08bccb1a392c",
   "metadata": {},
   "outputs": [
    {
     "name": "stdout",
     "output_type": "stream",
     "text": [
      "[[0.38179067 0.5078318  1.127576  ]] [-1.0562897]\n"
     ]
    }
   ],
   "source": [
    "from sklearn.linear_model import LinearRegression\n",
    "\n",
    "loaded_data = np.loadtxt('../AI데이터/data_01.csv', delimiter = ',', skiprows = 0, dtype = np.float32)\n",
    "x_data = loaded_data[:, 0:-1]\n",
    "t_data = loaded_data[:, [-1]]\n",
    "\n",
    "model = LinearRegression().fit(x_data, t_data)\n",
    "print(model.coef_, model.intercept_)"
   ]
  },
  {
   "cell_type": "code",
   "execution_count": 34,
   "id": "614514b3-59a6-48cf-bc5e-cb4dcf3bf77b",
   "metadata": {},
   "outputs": [
    {
     "data": {
      "text/plain": [
       "array([[178.22395015]])"
      ]
     },
     "execution_count": 34,
     "metadata": {},
     "output_type": "execute_result"
    }
   ],
   "source": [
    "test_data = np.array([[100, 98, 81]])\n",
    "pred_data = model.predict(test_data)\n",
    "pred_data"
   ]
  },
  {
   "cell_type": "code",
   "execution_count": null,
   "id": "1d5c1c38-1875-4ce2-88cc-758554996245",
   "metadata": {},
   "outputs": [],
   "source": []
  }
 ],
 "metadata": {
  "kernelspec": {
   "display_name": "Python 3 (ipykernel)",
   "language": "python",
   "name": "python3"
  },
  "language_info": {
   "codemirror_mode": {
    "name": "ipython",
    "version": 3
   },
   "file_extension": ".py",
   "mimetype": "text/x-python",
   "name": "python",
   "nbconvert_exporter": "python",
   "pygments_lexer": "ipython3",
   "version": "3.11.9"
  }
 },
 "nbformat": 4,
 "nbformat_minor": 5
}
